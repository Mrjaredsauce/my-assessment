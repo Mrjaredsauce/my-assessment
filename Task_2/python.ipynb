{
 "cells": [
  {
   "cell_type": "code",
   "execution_count": 187,
   "metadata": {},
   "outputs": [],
   "source": [
    "import os\n",
    "\n",
    "import pandas as pd\n",
    "import Python as py\n",
    "import numpy as np"
   ]
  },
  {
   "cell_type": "code",
   "execution_count": 188,
   "metadata": {},
   "outputs": [],
   "source": [
    "root = os.getcwd()\n",
    "df_scheduled = pd.read_csv(root + \"/data/scheduled_loan_repayments.csv\")\n",
    "df_actual = pd.read_csv(root + \"/data/actual_loan_repayments.csv\")\n",
    "df_balances = py.calculate_df_balances(df_scheduled, df_actual)"
   ]
  },
  {
   "cell_type": "code",
   "execution_count": 189,
   "metadata": {},
   "outputs": [],
   "source": [
    "def question_1(df_balances):\n",
    "    \"\"\"\n",
    "    Calculate the percent of loans that defaulted as per the Type 1 default definition.\n",
    "\n",
    "    Args:\n",
    "        df_balances (DataFrame): Dataframe created from the 'calculate_df_balances()' function.\n",
    "\n",
    "    Returns:\n",
    "        float: The percentage of type 1 defaulted loans (ie 50.0 not 0.5).\n",
    "    \"\"\"\n",
    "    # Determines if a row is defaulted accourding to Type 1 definition (ActualRepayment < ScheduledRepayment)\n",
    "    df_balances[\"DefaultedType1\"] = df_balances[\"ActualRepayment\"] < df_balances[\"ScheduledRepayment\"]\n",
    "\n",
    "    # Group by LoanID and determine if any row in the group has defaulted\n",
    "    loan_defaults = df_balances.groupby(\"LoanID\")[\"DefaultedType1\"].max()\n",
    "\n",
    "    # Calculate the percentage of defaulted loans\n",
    "    total_loans = len(loan_defaults)\n",
    "    defaulted_loans = loan_defaults.sum()\n",
    "    default_rate_percent = (defaulted_loans / total_loans) * 100\n",
    "\n",
    "    return default_rate_percent"
   ]
  },
  {
   "cell_type": "code",
   "execution_count": 190,
   "metadata": {},
   "outputs": [
    {
     "name": "stdout",
     "output_type": "stream",
     "text": [
      "15.0\n"
     ]
    }
   ],
   "source": [
    "Q1 = question_1(df_balances)\n",
    "\n",
    "print(Q1)"
   ]
  },
  {
   "cell_type": "code",
   "execution_count": 191,
   "metadata": {},
   "outputs": [],
   "source": [
    "def question_2(df_scheduled, df_balances):\n",
    "    \"\"\"\n",
    "    Calculate the percent of loans that defaulted as per the type 2 default definition.\n",
    "\n",
    "    Args:\n",
    "        df_balances (DataFrame): DataFrame containing the actual repayment data\n",
    "        df_scheduled (DataFrame): DataFrame containing the scheduled repayment data\n",
    "\n",
    "    Returns:\n",
    "        float: The percentage of type 2 defaulted loans (i.e. 50.0, not 0.5)\n",
    "    \"\"\"\n",
    "\n",
    "    # Group by LoanID and sum ActualRepayment and ScheduledRepayment for each loan\n",
    "    actual_sum = df_balances.groupby(\"LoanID\")[\"ActualRepayment\"].sum()\n",
    "    expected_sum = df_balances.groupby(\"LoanID\")[\"ScheduledRepayment\"].sum()\n",
    "\n",
    "    # Merge the actual and expected sums on LoanID\n",
    "    merged_df = pd.DataFrame({\n",
    "        'ActualRepayment': actual_sum,\n",
    "        'ScheduledRepayment': expected_sum\n",
    "    }).reset_index()\n",
    "\n",
    "    # Add a column to identify if a loan defaulted according to Type 2 definition\n",
    "    merged_df[\"DefaultedType2\"] = merged_df[\"ActualRepayment\"] <= merged_df[\"ScheduledRepayment\"] * 0.85\n",
    "    \n",
    "    # Calculate the percentage of loans that defaulted (at least one default)\n",
    "    total_loans = len(merged_df)\n",
    "    defaulted_loans = merged_df[\"DefaultedType2\"].sum()\n",
    "    default_rate_percent = (defaulted_loans / total_loans) * 100\n",
    "\n",
    "    return default_rate_percent\n"
   ]
  },
  {
   "cell_type": "code",
   "execution_count": 192,
   "metadata": {},
   "outputs": [
    {
     "name": "stdout",
     "output_type": "stream",
     "text": [
      "1.2\n"
     ]
    }
   ],
   "source": [
    "Q2 = question_2(df_scheduled, df_balances)\n",
    "\n",
    "print(Q2)"
   ]
  },
  {
   "cell_type": "code",
   "execution_count": 193,
   "metadata": {},
   "outputs": [
    {
     "data": {
      "text/plain": [
       "3.53495282240609"
      ]
     },
     "execution_count": 193,
     "metadata": {},
     "output_type": "execute_result"
    }
   ],
   "source": [
    "def question_3(df_balances):\n",
    "    \"\"\"\n",
    "    Calculate the annualized portfolio CPR (as a %) from the geometric mean SMM.\n",
    "    \n",
    "    SMM is calculated as: (Unscheduled Principal) / (Start of Month Loan Balance)\n",
    "    SMM_mean is calculated as (∏(1 + SMM))^(1/12) - 1\n",
    "    CPR is calculated as: 1 - (1 - SMM_mean)^12\n",
    "\n",
    "    Args:\n",
    "        df_balances (DataFrame): Dataframe created from the 'calculate_df_balances()' function\n",
    "\n",
    "    Returns:\n",
    "        tuple: SMM Mean (float), Annualized CPR (float) as a percent, and the total number of records in the SMM column.\n",
    "    \"\"\"\n",
    "\n",
    "    # Calculate Unscheduled Principal for each row\n",
    "    df_balances[\"UnscheduledPrincipal\"] = np.where(\n",
    "        df_balances[\"ActualRepayment\"] > df_balances[\"ScheduledRepayment\"],\n",
    "        df_balances[\"ActualRepayment\"] - df_balances[\"ScheduledRepayment\"],\n",
    "        0\n",
    "    )\n",
    "\n",
    "    # Calculate SMM for each row\n",
    "    df_balances[\"SMM\"] = np.where(\n",
    "        df_balances[\"LoanBalanceStart\"] > 0,\n",
    "        df_balances[\"UnscheduledPrincipal\"] / df_balances[\"LoanBalanceStart\"],\n",
    "        0\n",
    "    )\n",
    "\n",
    "    # Calculate geometric mean SMM\n",
    "    SMM_mean = np.prod((1 + df_balances[\"SMM\"]) ** (1 / len(df_balances[\"SMM\"]))) - 1\n",
    "    SMM_mean_percent = SMM_mean * 100\n",
    "\n",
    "    # Calculate the annualized CPR from the SMM Mean\n",
    "    cpr = 1 - (1 - SMM_mean) ** 12\n",
    "    cpr_percent = cpr * 100 \n",
    "\n",
    "    # Return the results: SMM Mean percentage, CPR percentage, and the count of SMM values\n",
    "    return cpr_percent\n",
    "\n",
    "\n",
    "question_3(df_balances)"
   ]
  },
  {
   "cell_type": "code",
   "execution_count": 194,
   "metadata": {},
   "outputs": [
    {
     "data": {
      "text/plain": [
       "155879.99999999997"
      ]
     },
     "execution_count": 194,
     "metadata": {},
     "output_type": "execute_result"
    }
   ],
   "source": [
    "def question_4(df_balances):\n",
    "    \"\"\"\n",
    "    Calculate the predicted total loss for the second year in the loan term.\n",
    "    Use the equation: probability_of_default * total_loan_balance * (1 - recovery_rate).\n",
    "    The probability_of_default value must be taken from either your question_1 or question_2 answer.\n",
    "    Decide between the two answers based on which default definition you believe to be the more useful metric.\n",
    "    Assume a recovery rate of 80%\n",
    "\n",
    "    Args:\n",
    "        df_balances (DataFrame): Dataframe created from the 'calculate_df_balances()' function\n",
    "\n",
    "    Returns:\n",
    "        float: The predicted total loss for the second year in the loan term.\n",
    "        \"\"\"\n",
    "\n",
    "    # Get the probability of default, using Type 2 definition\n",
    "    default_rate_percent = question_2(df_balances, df_balances)\n",
    "    probability_of_default = default_rate_percent / 100\n",
    "\n",
    "    # Assume recovery rate of 80%\n",
    "    recovery_rate = 0.80\n",
    "\n",
    "    # Group by LoanID and get the LoanBalance for each loan\n",
    "    unique_loans = df_balances.groupby(\"LoanID\")[\"LoanAmount\"].first()  # Take the first balance for each LoanID\n",
    "\n",
    "    # Calculate the total predicted loss for each loan\n",
    "    total_loss = (unique_loans * probability_of_default * (1 - recovery_rate)).sum()\n",
    "\n",
    "    return total_loss\n",
    "\n",
    "question_4(df_balances)"
   ]
  },
  {
   "cell_type": "code",
   "execution_count": 195,
   "metadata": {},
   "outputs": [
    {
     "data": {
      "text/plain": [
       "78365.85352799998"
      ]
     },
     "execution_count": 195,
     "metadata": {},
     "output_type": "execute_result"
    }
   ],
   "source": [
    "def question_4(df_balances):\n",
    "    \"\"\"\n",
    "    Calculate the predicted total loss for the second year in the loan term.\n",
    "    Use the equation: probability_of_default * total_loan_balance * (1 - recovery_rate).\n",
    "    The probability_of_default value must be taken from either your question_1 or question_2 answer.\n",
    "    Decide between the two answers based on which default definition you believe to be the more useful metric.\n",
    "    Assume a recovery rate of 80%\n",
    "\n",
    "    Args:\n",
    "        df_balances (DataFrame): Dataframe created from the 'calculate_df_balances()' function\n",
    "\n",
    "    Returns:\n",
    "        float: The predicted total loss for the second year in the loan term.\n",
    "        \"\"\"\n",
    "    # Get the probability of default, using Type 2 definition\n",
    "    default_rate_percent = question_2(df_balances, df_balances)  # Reusing question_2 to get the default rate\n",
    "    probability_of_default = default_rate_percent / 100  # Convert to a decimal\n",
    "\n",
    "    # Assume recovery rate of 80%\n",
    "    recovery_rate = 0.80\n",
    "\n",
    "    # Get the final loan balance for the year for each LoanID\n",
    "    loan_balance_end_of_year = df_balances[df_balances['Month'] == 12].groupby('LoanID')['LoanBalanceEnd'].first()\n",
    "\n",
    "    # Calculate the total predicted loss for each loan\n",
    "    total_loss = (loan_balance_end_of_year * probability_of_default * (1 - recovery_rate)).sum()\n",
    "\n",
    "    return total_loss\n",
    "question_4(df_balances)"
   ]
  },
  {
   "cell_type": "code",
   "execution_count": null,
   "metadata": {},
   "outputs": [],
   "source": []
  }
 ],
 "metadata": {
  "kernelspec": {
   "display_name": "Python 3 (ipykernel)",
   "language": "python",
   "name": "python3"
  },
  "language_info": {
   "codemirror_mode": {
    "name": "ipython",
    "version": 3
   },
   "file_extension": ".py",
   "mimetype": "text/x-python",
   "name": "python",
   "nbconvert_exporter": "python",
   "pygments_lexer": "ipython3",
   "version": "3.10.15"
  }
 },
 "nbformat": 4,
 "nbformat_minor": 4
}
